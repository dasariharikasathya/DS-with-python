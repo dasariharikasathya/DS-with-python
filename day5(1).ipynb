{
 "cells": [
  {
   "cell_type": "markdown",
   "id": "fc71ca04-af84-4989-9a39-2d4fcdaccf88",
   "metadata": {},
   "source": [
    " create a class with 'Myqueue' whoch cam handle 1. Enqueue 2. Dequeue 3. Is empty 4. Display"
   ]
  },
  {
   "cell_type": "code",
   "execution_count": 10,
   "id": "0614e148-b388-46fa-afc7-56839afe0e22",
   "metadata": {},
   "outputs": [],
   "source": [
    "class Myqueue:\n",
    "    def __init__(self):\n",
    "        self.queue=[]\n",
    "    def enqueue(self,val):\n",
    "        self.queue.append(val)\n",
    "    def dequeue(self):\n",
    "        if self.queue:\n",
    "            self.queue.pop(0)\n",
    "        else:\n",
    "            print('Queue is empty')\n",
    "    def isempty(self):\n",
    "        return len(self.queue)==0\n",
    "    def display(self):\n",
    "        if self.queue:\n",
    "             return self.queue\n",
    "        else:\n",
    "            print('No queue is display')\n",
    "    def size(self):\n",
    "        return len(self.queue)"
   ]
  },
  {
   "cell_type": "code",
   "execution_count": 11,
   "id": "ab95892a-cc76-4602-a4ea-3a8363ac636d",
   "metadata": {},
   "outputs": [
    {
     "data": {
      "text/plain": [
       "[30, 40, 50]"
      ]
     },
     "execution_count": 11,
     "metadata": {},
     "output_type": "execute_result"
    }
   ],
   "source": [
    "q = Myqueue()\n",
    "q.enqueue(30)\n",
    "q.enqueue(40)\n",
    "q.enqueue(50)\n",
    "q.display()"
   ]
  },
  {
   "cell_type": "code",
   "execution_count": 12,
   "id": "045fb734-5d78-4eb9-b2f2-9807b986c40b",
   "metadata": {},
   "outputs": [
    {
     "data": {
      "text/plain": [
       "[40, 50]"
      ]
     },
     "execution_count": 12,
     "metadata": {},
     "output_type": "execute_result"
    }
   ],
   "source": [
    "q.dequeue()\n",
    "q.display()"
   ]
  },
  {
   "cell_type": "code",
   "execution_count": 13,
   "id": "4e8470c8-8c86-4b1a-9c27-5286a626157c",
   "metadata": {},
   "outputs": [
    {
     "data": {
      "text/plain": [
       "False"
      ]
     },
     "execution_count": 13,
     "metadata": {},
     "output_type": "execute_result"
    }
   ],
   "source": [
    "q.isempty()"
   ]
  },
  {
   "cell_type": "code",
   "execution_count": 14,
   "id": "a593e932-aefc-4b90-9740-ddaf8250cb3a",
   "metadata": {},
   "outputs": [
    {
     "data": {
      "text/plain": [
       "2"
      ]
     },
     "execution_count": 14,
     "metadata": {},
     "output_type": "execute_result"
    }
   ],
   "source": [
    "q.size()"
   ]
  },
  {
   "cell_type": "code",
   "execution_count": 15,
   "id": "ca53c81f-34f4-4fdc-9011-eb41d206a55d",
   "metadata": {},
   "outputs": [],
   "source": [
    "arr=[2,9,8,1,7,6]"
   ]
  },
  {
   "cell_type": "code",
   "execution_count": 27,
   "id": "93fbc52c-c840-44e7-8596-c0df2cf4c8fb",
   "metadata": {},
   "outputs": [],
   "source": [
    "def sum_e_o(arr):\n",
    "    e=[]\n",
    "    o=[]\n",
    "    for i in range (len(arr)):\n",
    "        if i%2==0:\n",
    "            e.append(arr[i])\n",
    "        else:\n",
    "            o.append(arr[i])\n",
    "    e.sort()\n",
    "    o.sort()\n",
    "    return e[1]+o[1]"
   ]
  },
  {
   "cell_type": "code",
   "execution_count": 28,
   "id": "fc3b5a1c-83e4-42b0-89be-1bcc2fee8185",
   "metadata": {},
   "outputs": [
    {
     "data": {
      "text/plain": [
       "8"
      ]
     },
     "execution_count": 28,
     "metadata": {},
     "output_type": "execute_result"
    }
   ],
   "source": [
    "arr=[5,7,8,3,2,3]\n",
    "sum_e_o(arr)"
   ]
  },
  {
   "cell_type": "code",
   "execution_count": null,
   "id": "040accf4-62e0-4774-8daa-c1fed850ec85",
   "metadata": {},
   "outputs": [],
   "source": []
  }
 ],
 "metadata": {
  "kernelspec": {
   "display_name": "Python 3 (ipykernel)",
   "language": "python",
   "name": "python3"
  },
  "language_info": {
   "codemirror_mode": {
    "name": "ipython",
    "version": 3
   },
   "file_extension": ".py",
   "mimetype": "text/x-python",
   "name": "python",
   "nbconvert_exporter": "python",
   "pygments_lexer": "ipython3",
   "version": "3.11.7"
  }
 },
 "nbformat": 4,
 "nbformat_minor": 5
}
