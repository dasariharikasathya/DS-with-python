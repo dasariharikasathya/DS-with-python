{
 "cells": [
  {
   "cell_type": "markdown",
   "id": "9ecb6256-e3be-422c-80c3-4947bfb2d5f2",
   "metadata": {},
   "source": [
    "# Circular Queue "
   ]
  },
  {
   "cell_type": "markdown",
   "id": "b0998425-f3e5-47e2-964b-87eb663f3f12",
   "metadata": {},
   "source": [
    "circular queue implementation with fixed size"
   ]
  },
  {
   "cell_type": "markdown",
   "id": "21ae501e-5847-4e72-9ce6-dd019b268e8d",
   "metadata": {},
   "source": [
    "1. Initialise\n",
    "    * Size\n",
    "    * Front pointer(exit)\n",
    "    * Rear pointer(entry)\n",
    "    * Queue(list)\n",
    "2. Enqueue\n",
    "    * Queue is full(rear*1==front)\n",
    "    * First element (rear=front=0),then append\n",
    "    * Entering anywhere except at the begining(rear=rear=1%size),then append\n",
    "3. Dequeue\n",
    "    * Rear = front = 1(Queue empty)\n",
    "    * Rear = front(only one elements remains)(pop it by moving the front & rear to -1)\n",
    "    * Dequeue "
   ]
  },
  {
   "cell_type": "code",
   "execution_count": 1,
   "id": "1d344eb3-4ad5-42b1-b73d-5b0fa991c184",
   "metadata": {},
   "outputs": [],
   "source": [
    "class circularQ:\n",
    "    def __init__(self,size):\n",
    "        self.size=size\n",
    "        self.front=self.rear=-1\n",
    "        self.queue=[None]*size\n",
    "    def enqueue(self,data):\n",
    "        if (self.rear+1)%self.size==self.front:\n",
    "            print(\"Queue is full\")\n",
    "        elif self.rear==-1:\n",
    "            self.front=self.rear=0\n",
    "            self.queue[self.rear]=data\n",
    "        else:\n",
    "            self.rear=(self.rear+1)%self.size\n",
    "            self.queue[self.rear]=data\n",
    "    def dequeue(self):\n",
    "        if self.front == -1:\n",
    "            print(\"Queue is empty\")\n",
    "            return\n",
    "        popped = self.queue[self.front]\n",
    "        if self.front == self.rear:\n",
    "            self.front = self.rear = -1\n",
    "            return popped\n",
    "        else:\n",
    "            self.front = (self.front+1)%self.size\n",
    "            return popped\n",
    "    def display(self):\n",
    "        if self.front == -1:\n",
    "            print(\"Queue is empty\")\n",
    "            return\n",
    "        i = self.front\n",
    "        while True:\n",
    "            print(self.queue[i])\n",
    "            if i == self.rear:\n",
    "                break\n",
    "            i = (i+1) % self.size"
   ]
  },
  {
   "cell_type": "code",
   "execution_count": null,
   "id": "94089a23-36d9-4d76-9429-037c2651425d",
   "metadata": {},
   "outputs": [],
   "source": [
    "queue=circularQ(4)\n",
    "queue.enqueue(89)\n",
    "queue.enqueue(82)\n",
    "queue.enqueue(34)\n",
    "queue.dequeue()\n",
    "queue.dequeue()\n",
    "queue.dequeue()\n",
    "queue.dequeue()"
   ]
  },
  {
   "cell_type": "code",
   "execution_count": 4,
   "id": "c1fb81ad-7ba0-4296-985e-b1fe2454f8d8",
   "metadata": {},
   "outputs": [],
   "source": [
    "def checrpass(str):\n",
    "    valid=False\n",
    "    if len(str)<4:\n",
    "        return 0\n",
    "    for i in str:\n",
    "        if i.isdigit():\n",
    "            valid=True\n",
    "            break\n",
    "    if valid==False:\n",
    "        return 0\n",
    "    valid=False\n",
    "    for i in str:\n",
    "        if i.isupper():\n",
    "            valid=True\n",
    "            break\n",
    "        for i in str:\n",
    "            if i ==\"\" or i==\"/\":\n",
    "                return 0\n",
    "        if str[0].isdigit():\n",
    "            return 0\n",
    "        return 1\n",
    "\n",
    "\n",
    "def main():\n",
    "    pwd=input(\"enter password to check\")\n",
    "    print(checpass(pwd))"
   ]
  },
  {
   "cell_type": "code",
   "execution_count": null,
   "id": "5e2ff01f-56af-4c63-98c2-98f6e07d6a8a",
   "metadata": {},
   "outputs": [],
   "source": [
    "main()"
   ]
  },
  {
   "cell_type": "code",
   "execution_count": null,
   "id": "b61b635f-6ed6-498f-b29b-1da7a9681bde",
   "metadata": {},
   "outputs": [],
   "source": []
  }
 ],
 "metadata": {
  "kernelspec": {
   "display_name": "Python 3 (ipykernel)",
   "language": "python",
   "name": "python3"
  },
  "language_info": {
   "codemirror_mode": {
    "name": "ipython",
    "version": 3
   },
   "file_extension": ".py",
   "mimetype": "text/x-python",
   "name": "python",
   "nbconvert_exporter": "python",
   "pygments_lexer": "ipython3",
   "version": "3.11.7"
  }
 },
 "nbformat": 4,
 "nbformat_minor": 5
}
