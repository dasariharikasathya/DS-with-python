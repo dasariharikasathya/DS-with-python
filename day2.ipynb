{
 "cells": [
  {
   "cell_type": "markdown",
   "id": "52863031-6113-4011-b729-eee62d38a75b",
   "metadata": {},
   "source": [
    "# Stack implimentation using List"
   ]
  },
  {
   "cell_type": "code",
   "execution_count": 6,
   "id": "10aa9155-de59-4b72-a9c3-6b3edf67e5f3",
   "metadata": {},
   "outputs": [],
   "source": [
    "class stack:\n",
    "    def __init__(self):\n",
    "        self.stack=[]\n",
    "    def push(self,item):\n",
    "        self.stack.append(item)\n",
    "    def pop(self):\n",
    "        return self.stack.pop()\n",
    "    def isempty(self):\n",
    "        return len(self.stack)==0\n",
    "    def peak(self):\n",
    "        if self.stack:\n",
    "           return self.stack[-1]\n",
    "        else:\n",
    "          'stack is empty'"
   ]
  },
  {
   "cell_type": "code",
   "execution_count": 3,
   "id": "489e7d0c-fd48-4513-be06-cf8c7c75c9b0",
   "metadata": {},
   "outputs": [
    {
     "data": {
      "text/plain": [
       "45"
      ]
     },
     "execution_count": 3,
     "metadata": {},
     "output_type": "execute_result"
    }
   ],
   "source": [
    "S=stack()\n",
    "S.push(44)\n",
    "S.push(45)\n",
    "S.pop()"
   ]
  },
  {
   "cell_type": "code",
   "execution_count": 1,
   "id": "c53426ea-3da6-4039-a545-a27cdc851d5f",
   "metadata": {},
   "outputs": [],
   "source": [
    "a = 'happy'"
   ]
  },
  {
   "cell_type": "code",
   "execution_count": 2,
   "id": "7f6501e9-231e-4026-9780-80af75110ec0",
   "metadata": {},
   "outputs": [
    {
     "name": "stdout",
     "output_type": "stream",
     "text": [
      "h\n"
     ]
    }
   ],
   "source": [
    "print(a[0])"
   ]
  },
  {
   "cell_type": "code",
   "execution_count": 8,
   "id": "edbec345-0339-41b8-a5b4-60e9e471fc2e",
   "metadata": {},
   "outputs": [
    {
     "name": "stdout",
     "output_type": "stream",
     "text": [
      "h\n",
      "a\n",
      "p\n",
      "p\n",
      "y\n"
     ]
    }
   ],
   "source": [
    "s = 'happy'\n",
    "for i in range(0,len(s)):\n",
    "    print(a[i])"
   ]
  },
  {
   "cell_type": "code",
   "execution_count": 10,
   "id": "fadb9df7-af70-4776-8941-d028da487b58",
   "metadata": {},
   "outputs": [
    {
     "name": "stdout",
     "output_type": "stream",
     "text": [
      "happyme\n"
     ]
    }
   ],
   "source": [
    "a = 'happy'\n",
    "b = 'me'\n",
    "print(a+b)"
   ]
  },
  {
   "cell_type": "code",
   "execution_count": 11,
   "id": "f4b7c818-6344-4139-8a23-0cdc02a4f150",
   "metadata": {},
   "outputs": [],
   "source": [
    "a='happy'\n",
    "stack=[]\n",
    "for i in range(0,len(s)):\n",
    "    stack.append(a[-1])\n",
    "rev=''\n",
    "while (len(stack)!=0):\n",
    "    el=stack.pop()\n",
    "    rev=rev+el"
   ]
  },
  {
   "cell_type": "code",
   "execution_count": null,
   "id": "a97bcf38-d57e-4508-92cb-57c4dcac8395",
   "metadata": {},
   "outputs": [],
   "source": []
  }
 ],
 "metadata": {
  "kernelspec": {
   "display_name": "Python 3 (ipykernel)",
   "language": "python",
   "name": "python3"
  },
  "language_info": {
   "codemirror_mode": {
    "name": "ipython",
    "version": 3
   },
   "file_extension": ".py",
   "mimetype": "text/x-python",
   "name": "python",
   "nbconvert_exporter": "python",
   "pygments_lexer": "ipython3",
   "version": "3.11.7"
  }
 },
 "nbformat": 4,
 "nbformat_minor": 5
}
