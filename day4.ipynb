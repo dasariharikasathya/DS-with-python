{
 "cells": [
  {
   "cell_type": "markdown",
   "id": "89a45bac-e44c-4fde-8a91-812a42cd9503",
   "metadata": {},
   "source": [
    "stack class that supports push,pop,peek functions"
   ]
  },
  {
   "cell_type": "code",
   "execution_count": 2,
   "id": "dc731cdf-c305-4c42-9517-cfb8d5f70c0d",
   "metadata": {},
   "outputs": [],
   "source": [
    "class stack:\n",
    "    def __init__(self):\n",
    "        self.stack=[]\n",
    "    def push(self,item):\n",
    "        self.stack.append(item)\n",
    "    def pop(self):\n",
    "        if len(self.stack)==0:\n",
    "            print(\"no element to pop\")\n",
    "        else:\n",
    "            return self.stack.pop()\n",
    "    def peek(self):\n",
    "        if self.stack[-1]:\n",
    "            return self.stack[-1]\n",
    "        else:\n",
    "            print(\"stack is empty\")"
   ]
  },
  {
   "cell_type": "code",
   "execution_count": 3,
   "id": "4bc5a5c2-8c68-48bf-85e2-d751258cf7ed",
   "metadata": {},
   "outputs": [],
   "source": [
    "obj=stack()"
   ]
  },
  {
   "cell_type": "code",
   "execution_count": 4,
   "id": "c8175c9f-05b9-4ce5-a564-74826ba08dd9",
   "metadata": {},
   "outputs": [],
   "source": [
    "obj.push(67)\n",
    "obj.push(68)\n",
    "obj.push(69)"
   ]
  },
  {
   "cell_type": "code",
   "execution_count": 5,
   "id": "71bdd2b7-82ff-4798-b005-b7b33b3cb9b5",
   "metadata": {},
   "outputs": [
    {
     "data": {
      "text/plain": [
       "69"
      ]
     },
     "execution_count": 5,
     "metadata": {},
     "output_type": "execute_result"
    }
   ],
   "source": [
    "obj.pop()"
   ]
  },
  {
   "cell_type": "code",
   "execution_count": 6,
   "id": "1aa10988-2b2b-458d-8051-1397f5e33e60",
   "metadata": {},
   "outputs": [
    {
     "data": {
      "text/plain": [
       "68"
      ]
     },
     "execution_count": 6,
     "metadata": {},
     "output_type": "execute_result"
    }
   ],
   "source": [
    "obj.peek()"
   ]
  },
  {
   "cell_type": "markdown",
   "id": "f4a257f5-ae77-4c46-8784-7f6ccb71f498",
   "metadata": {},
   "source": [
    "implement queue using stacks"
   ]
  },
  {
   "cell_type": "code",
   "execution_count": 10,
   "id": "338149a3-f66b-4a61-abc7-7bd2fb20dfec",
   "metadata": {},
   "outputs": [],
   "source": [
    "class Queue:\n",
    "    def __init__(self):\n",
    "        self.stack1=[]\n",
    "        self.stack2=[]\n",
    "    def push(self,x):\n",
    "        self.stack1.append(x)\n",
    "    def pop(self):\n",
    "        self.peek()\n",
    "        return self.stack2.pop()\n",
    "    def peek(self):\n",
    "        if not self.stack2:\n",
    "            while self.stack1:\n",
    "                self.stack2.append(self.stack1.pop())\n",
    "        return self.stack2[-1]\n",
    "    def empty(self):\n",
    "        return not self.stack1 and not self.stack2"
   ]
  },
  {
   "cell_type": "code",
   "execution_count": 11,
   "id": "d85ab056-c2fb-4440-8c88-6ef520f38bf4",
   "metadata": {},
   "outputs": [],
   "source": [
    "q=Queue()\n",
    "q.push(5)\n",
    "q.push(7)\n",
    "q.push(9)"
   ]
  },
  {
   "cell_type": "code",
   "execution_count": 12,
   "id": "be616674-0c1f-4e9b-9c52-92ad726e1d03",
   "metadata": {},
   "outputs": [
    {
     "data": {
      "text/plain": [
       "5"
      ]
     },
     "execution_count": 12,
     "metadata": {},
     "output_type": "execute_result"
    }
   ],
   "source": [
    "q.pop()"
   ]
  },
  {
   "cell_type": "code",
   "execution_count": 13,
   "id": "f0e29eb4-f70b-4b6c-9387-4652454172f8",
   "metadata": {},
   "outputs": [
    {
     "data": {
      "text/plain": [
       "7"
      ]
     },
     "execution_count": 13,
     "metadata": {},
     "output_type": "execute_result"
    }
   ],
   "source": [
    "q.peek()"
   ]
  },
  {
   "cell_type": "code",
   "execution_count": 14,
   "id": "a860e8b3-fc7e-460c-88ea-6eb718894ce8",
   "metadata": {},
   "outputs": [
    {
     "data": {
      "text/plain": [
       "False"
      ]
     },
     "execution_count": 14,
     "metadata": {},
     "output_type": "execute_result"
    }
   ],
   "source": [
    "q.empty()"
   ]
  },
  {
   "cell_type": "code",
   "execution_count": null,
   "id": "0930ff00-5059-4bea-8064-c6219caca341",
   "metadata": {},
   "outputs": [],
   "source": []
  }
 ],
 "metadata": {
  "kernelspec": {
   "display_name": "Python 3 (ipykernel)",
   "language": "python",
   "name": "python3"
  },
  "language_info": {
   "codemirror_mode": {
    "name": "ipython",
    "version": 3
   },
   "file_extension": ".py",
   "mimetype": "text/x-python",
   "name": "python",
   "nbconvert_exporter": "python",
   "pygments_lexer": "ipython3",
   "version": "3.11.7"
  }
 },
 "nbformat": 4,
 "nbformat_minor": 5
}
