{
 "cells": [
  {
   "cell_type": "markdown",
   "id": "a2a3be9d-9ca4-47f9-bb94-be4319b696ef",
   "metadata": {},
   "source": [
    "# Arrays"
   ]
  },
  {
   "cell_type": "code",
   "execution_count": 1,
   "id": "e117d152-6b7f-485f-8e28-b95ae7e5bdd9",
   "metadata": {},
   "outputs": [
    {
     "name": "stdout",
     "output_type": "stream",
     "text": [
      "array('i', [3, 5, 7, 2, 3])\n",
      "<class 'array.array'>\n"
     ]
    }
   ],
   "source": [
    "#initialize\n",
    "from array import array\n",
    "arr = array('i',[3,5,7,2,3])\n",
    "print(arr)\n",
    "print(type(arr))\n"
   ]
  },
  {
   "cell_type": "code",
   "execution_count": 3,
   "id": "f0468a6f-57e6-47f3-aafd-1da2ff4d56a0",
   "metadata": {},
   "outputs": [
    {
     "name": "stdout",
     "output_type": "stream",
     "text": [
      "array('i', [1, 2, 3, 4, 5])\n",
      "<class 'array.array'>\n"
     ]
    }
   ],
   "source": [
    "from array import array\n",
    "arr = array('i',[1,2,3,4,5])\n",
    "print(arr)\n",
    "print(type(arr))"
   ]
  },
  {
   "cell_type": "code",
   "execution_count": 4,
   "id": "e93fb55e-464b-4c75-8d1c-841e81f0c3c3",
   "metadata": {},
   "outputs": [
    {
     "data": {
      "text/plain": [
       "5"
      ]
     },
     "execution_count": 4,
     "metadata": {},
     "output_type": "execute_result"
    }
   ],
   "source": [
    "arr[4] #access\n"
   ]
  },
  {
   "cell_type": "code",
   "execution_count": 7,
   "id": "7135a1ea-44cd-44a7-8f18-bf88b47ab8e4",
   "metadata": {},
   "outputs": [
    {
     "name": "stdout",
     "output_type": "stream",
     "text": [
      "array('i', [1, 2, 7, 4, 5])\n"
     ]
    }
   ],
   "source": [
    "arr[2] = 7 #modify\n",
    "print(arr)"
   ]
  },
  {
   "cell_type": "code",
   "execution_count": 8,
   "id": "e46505d1-e749-40de-a76c-382c6a093ba0",
   "metadata": {},
   "outputs": [
    {
     "name": "stdout",
     "output_type": "stream",
     "text": [
      "array('i', [1, 2, 7, 4, 91, 5])\n"
     ]
    }
   ],
   "source": [
    "arr.insert(4,91) #insert\n",
    "print(arr)"
   ]
  },
  {
   "cell_type": "code",
   "execution_count": 9,
   "id": "ec50a0cf-81b6-43b6-8bcb-73ce24008b70",
   "metadata": {},
   "outputs": [],
   "source": [
    "del(arr[4])"
   ]
  },
  {
   "cell_type": "code",
   "execution_count": 10,
   "id": "5eef36e8-afac-4f50-9837-957ebb259cbd",
   "metadata": {},
   "outputs": [
    {
     "data": {
      "text/plain": [
       "array('i', [1, 2, 7, 4, 5])"
      ]
     },
     "execution_count": 10,
     "metadata": {},
     "output_type": "execute_result"
    }
   ],
   "source": [
    "arr"
   ]
  },
  {
   "cell_type": "code",
   "execution_count": 11,
   "id": "c0cc49ae-bfd2-4d96-8ccd-c82cd93786bf",
   "metadata": {},
   "outputs": [
    {
     "name": "stdout",
     "output_type": "stream",
     "text": [
      "1\n",
      "2\n",
      "7\n",
      "4\n",
      "5\n"
     ]
    }
   ],
   "source": [
    "#for i in array/list:\n",
    "for i in arr:\n",
    "    print(i)"
   ]
  },
  {
   "cell_type": "code",
   "execution_count": 16,
   "id": "242e0c86-c1a3-408e-99f3-b0b33e623976",
   "metadata": {},
   "outputs": [
    {
     "name": "stdout",
     "output_type": "stream",
     "text": [
      "7\n",
      "4\n",
      "5\n"
     ]
    }
   ],
   "source": [
    "for i in arr:\n",
    "    if i>3:\n",
    "       print(i)"
   ]
  },
  {
   "cell_type": "code",
   "execution_count": 17,
   "id": "9d520413-c6d1-44ff-8b25-8e1a6dc8fdaa",
   "metadata": {},
   "outputs": [
    {
     "data": {
      "text/plain": [
       "[1, 2, 4, 5, 7]"
      ]
     },
     "execution_count": 17,
     "metadata": {},
     "output_type": "execute_result"
    }
   ],
   "source": [
    "arr = sorted(arr) #sort\n",
    "arr"
   ]
  },
  {
   "cell_type": "code",
   "execution_count": 20,
   "id": "67ade96b-d1f6-498b-ae20-c400e03e6331",
   "metadata": {},
   "outputs": [
    {
     "name": "stdout",
     "output_type": "stream",
     "text": [
      "true\n"
     ]
    }
   ],
   "source": [
    "for i in arr:\n",
    "    if i==5:\n",
    "        print(\"true\")\n",
    "    "
   ]
  },
  {
   "cell_type": "code",
   "execution_count": 25,
   "id": "105d318e-3bc7-4e56-bfa9-50689880c8d0",
   "metadata": {},
   "outputs": [
    {
     "name": "stdout",
     "output_type": "stream",
     "text": [
      "false\n"
     ]
    }
   ],
   "source": [
    "  if i==3:\n",
    "        print(\"true\")\n",
    "  else:\n",
    "        print(\"false\")"
   ]
  },
  {
   "cell_type": "code",
   "execution_count": 27,
   "id": "8c527283-70a2-4cc9-aa0b-76ea2aec354e",
   "metadata": {},
   "outputs": [],
   "source": [
    "def search(el, arr):\n",
    "    if el in arr:\n",
    "        return True\n",
    "    else:\n",
    "        return False"
   ]
  },
  {
   "cell_type": "code",
   "execution_count": 28,
   "id": "116ff36f-fc15-46ab-9ca0-80139c82bd63",
   "metadata": {},
   "outputs": [
    {
     "data": {
      "text/plain": [
       "True"
      ]
     },
     "execution_count": 28,
     "metadata": {},
     "output_type": "execute_result"
    }
   ],
   "source": [
    "ar = array('i',[7,13,12,90])\n",
    "search(12,ar)"
   ]
  },
  {
   "cell_type": "code",
   "execution_count": 29,
   "id": "2e37f27a-c036-4eb1-bb6a-06a7b7ff37ec",
   "metadata": {},
   "outputs": [],
   "source": [
    "def search(el, arr):\n",
    "    if el in arr:\n",
    "        return True\n",
    "    else:\n",
    "        return False"
   ]
  },
  {
   "cell_type": "code",
   "execution_count": 30,
   "id": "8605aab7-086e-465c-ab95-08fd64793ae1",
   "metadata": {},
   "outputs": [
    {
     "data": {
      "text/plain": [
       "False"
      ]
     },
     "execution_count": 30,
     "metadata": {},
     "output_type": "execute_result"
    }
   ],
   "source": [
    "ar = array('i',[7,13,12,90])\n",
    "search(70,ar)"
   ]
  },
  {
   "cell_type": "code",
   "execution_count": 38,
   "id": "0cf67f37-8c08-4517-892f-b3eef2f839a8",
   "metadata": {},
   "outputs": [],
   "source": [
    "def mult(n,arr):\n",
    "    for i in arr:\n",
    "        print(i*n)                                                                                                             "
   ]
  },
  {
   "cell_type": "code",
   "execution_count": 40,
   "id": "b80736c7-3979-4e71-99bc-957cd79894fa",
   "metadata": {},
   "outputs": [
    {
     "name": "stdout",
     "output_type": "stream",
     "text": [
      "14\n",
      "26\n",
      "24\n",
      "180\n"
     ]
    }
   ],
   "source": [
    "mult(2,ar)"
   ]
  },
  {
   "cell_type": "code",
   "execution_count": 7,
   "id": "757f0fef-25cf-48bd-aec1-59ec0c633390",
   "metadata": {},
   "outputs": [
    {
     "name": "stdout",
     "output_type": "stream",
     "text": [
      "array('i', [1, 2, 3, 4, 5])\n",
      "<class 'array.array'>\n"
     ]
    }
   ],
   "source": [
    "from array import array\n",
    "arr = array('i',[1,2,3,4,5])\n",
    "print(arr)\n",
    "print(type(arr))"
   ]
  },
  {
   "cell_type": "code",
   "execution_count": 8,
   "id": "d462079a-8ce6-4ee6-a21d-7f1a75fc9803",
   "metadata": {},
   "outputs": [],
   "source": [
    "def missing(n,arr):\n",
    "    act_sum = (n*(n+1))/2\n",
    "    print(\"Actual sum is \", act_sum) \n",
    "    gn_sum = sum(arr)\n",
    "    print(\"Sum of the given array \", gn_sum) \n",
    "    return (act_sum - gn_sum)"
   ]
  },
  {
   "cell_type": "code",
   "execution_count": 9,
   "id": "2a5d192f-d095-4af9-9e46-7dc5419a99f8",
   "metadata": {},
   "outputs": [
    {
     "name": "stdout",
     "output_type": "stream",
     "text": [
      "Actual sum is  21.0\n",
      "Sum of the given array  18\n"
     ]
    },
    {
     "data": {
      "text/plain": [
       "3.0"
      ]
     },
     "execution_count": 9,
     "metadata": {},
     "output_type": "execute_result"
    }
   ],
   "source": [
    "myarray = array('i',[1,2,4,5,6])\n",
    "missing(6,myarray)"
   ]
  },
  {
   "cell_type": "code",
   "execution_count": 10,
   "id": "f555436c-2d86-45f1-8ac2-f3a64d0c713a",
   "metadata": {},
   "outputs": [
    {
     "data": {
      "text/plain": [
       "[1, 2, 3, 4, 5]"
      ]
     },
     "execution_count": 10,
     "metadata": {},
     "output_type": "execute_result"
    }
   ],
   "source": [
    "arr = sorted(arr)\n",
    "arr"
   ]
  },
  {
   "cell_type": "code",
   "execution_count": null,
   "id": "ac5c1010-5ee0-458a-afa3-b28402792321",
   "metadata": {},
   "outputs": [],
   "source": []
  }
 ],
 "metadata": {
  "kernelspec": {
   "display_name": "Python 3 (ipykernel)",
   "language": "python",
   "name": "python3"
  },
  "language_info": {
   "codemirror_mode": {
    "name": "ipython",
    "version": 3
   },
   "file_extension": ".py",
   "mimetype": "text/x-python",
   "name": "python",
   "nbconvert_exporter": "python",
   "pygments_lexer": "ipython3",
   "version": "3.11.7"
  }
 },
 "nbformat": 4,
 "nbformat_minor": 5
}
