{
 "cells": [
  {
   "cell_type": "markdown",
   "id": "c21c8ebb-2d64-439d-b7c7-f6ade1f68dc4",
   "metadata": {},
   "source": [
    "# Node Creation"
   ]
  },
  {
   "cell_type": "code",
   "execution_count": 1,
   "id": "f65b9243-a4fc-475c-8c75-6af166643a41",
   "metadata": {},
   "outputs": [],
   "source": [
    "class Node:\n",
    "    def __init__(self,data):\n",
    "        self.data = data\n",
    "        self.next = None"
   ]
  },
  {
   "cell_type": "code",
   "execution_count": 2,
   "id": "32b01e61-65f2-4314-80ae-1b46a619a96c",
   "metadata": {},
   "outputs": [],
   "source": [
    "class linkedlist:\n",
    "    def __init__(self):\n",
    "        self.head = None"
   ]
  },
  {
   "cell_type": "code",
   "execution_count": 3,
   "id": "5a043e2a-7158-4410-8066-abfe18e26dc3",
   "metadata": {},
   "outputs": [],
   "source": [
    "def insert_beg(self, data):\n",
    "    new_node = Node(data)\n",
    "    new_node.next = self.head\n",
    "    self.head = new_node"
   ]
  },
  {
   "cell_type": "markdown",
   "id": "8013ae3c-1720-4c0d-974b-c1208d378956",
   "metadata": {},
   "source": [
    "Create a class names Mylinkes list which can initialize and insert nodes at the begining"
   ]
  },
  {
   "cell_type": "code",
   "execution_count": 18,
   "id": "808bc8fa-150b-4c33-bfd8-7d340048ec3a",
   "metadata": {},
   "outputs": [],
   "source": [
    "class Mylinkedlist:\n",
    "    class Node:\n",
    "        def __init__(self,data):\n",
    "            self.data=data\n",
    "            self.next=None\n",
    "    def __init__(self):\n",
    "         self.head=None\n",
    "    def insert_be(self,data):\n",
    "         nd=Mylinkedlist.Node(data)\n",
    "         nd.next=self.head\n",
    "         self.head=nd\n",
    "    def insertend(self,data):\n",
    "        nd1=Node(data)\n",
    "        if self.head==None:\n",
    "            self.head=nd1\n",
    "            return\n",
    "        current=self.head\n",
    "        while current.next:\n",
    "            current=current.next\n",
    "        current.next=nd1\n",
    "    def insertaft(self,data,prev_node):\n",
    "        new_node=MyLL.Nodes(data)\n",
    "        new_node.next=prev_node.next\n",
    "        prev_node.next=new_node\n",
    "    def print_LL(self):\n",
    "        current=self.head\n",
    "        while current.next:\n",
    "            print(current.data,end = '-->')\n",
    "            current=current.next\n",
    "    def search(self,val):\n",
    "        current=self.head\n",
    "        while current:\n",
    "            if current.data==val:\n",
    "                return True\n",
    "            current=current .next\n",
    "            return False\n",
    "            \n",
    "    def deletefirst(self):\n",
    "        self.head=self.head.next\n",
    "        \n",
    "    def delete(self):\n",
    "        current=self.head\n",
    "        while current.next.next:\n",
    "            current=current.next.next\n",
    "            current.next=None\n",
    "\n",
    "    def del_by_val(self,x):\n",
    "        if self.head.data == x:\n",
    "            self.head = self.head.next\n",
    "        current = self.head\n",
    "        while current.next:\n",
    "            if current.next.data !=x:\n",
    "                current = current.next\n",
    "            else:\n",
    "                break\n",
    "        if current.next:\n",
    "            current.next = current.next.next\n",
    "        else:                \n",
    "            return \"not found\""
   ]
  },
  {
   "cell_type": "code",
   "execution_count": 19,
   "id": "c70b31ae-adb8-4976-ad8a-30400baea84e",
   "metadata": {},
   "outputs": [
    {
     "name": "stdout",
     "output_type": "stream",
     "text": [
      "20-->50-->"
     ]
    }
   ],
   "source": [
    "ll=Mylinkedlist()\n",
    "ll.insert_be(40)\n",
    "ll.insert_be(50)\n",
    "ll.insert_be(30)\n",
    "ll.insert_be(20)\n",
    "ll.del_by_val(30)\n",
    "ll.print_LL()"
   ]
  },
  {
   "cell_type": "code",
   "execution_count": null,
   "id": "667bc392-4c27-4dd4-94c3-92aba6882dde",
   "metadata": {},
   "outputs": [],
   "source": []
  },
  {
   "cell_type": "code",
   "execution_count": null,
   "id": "082d030e-c51e-4b9e-80ed-af340ad305c6",
   "metadata": {},
   "outputs": [],
   "source": []
  }
 ],
 "metadata": {
  "kernelspec": {
   "display_name": "Python 3 (ipykernel)",
   "language": "python",
   "name": "python3"
  },
  "language_info": {
   "codemirror_mode": {
    "name": "ipython",
    "version": 3
   },
   "file_extension": ".py",
   "mimetype": "text/x-python",
   "name": "python",
   "nbconvert_exporter": "python",
   "pygments_lexer": "ipython3",
   "version": "3.11.7"
  }
 },
 "nbformat": 4,
 "nbformat_minor": 5
}
